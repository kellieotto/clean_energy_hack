{
 "cells": [
  {
   "cell_type": "code",
   "execution_count": 1,
   "metadata": {
    "collapsed": true
   },
   "outputs": [],
   "source": [
    "import pandas as pd\n",
    "%matplotlib inline\n",
    "import matplotlib.pyplot as plt\n",
    "import numpy as np\n",
    "import re\n",
    "\n",
    "plt.style.use('fivethirtyeight')\n",
    "plt.rcParams['figure.figsize'] = (10, 6)"
   ]
  },
  {
   "cell_type": "code",
   "execution_count": 2,
   "metadata": {
    "collapsed": false
   },
   "outputs": [
    {
     "name": "stdout",
     "output_type": "stream",
     "text": [
      "2013_-_Global_500_Emissions_and_Response_Status.csv\r\n",
      "2017-cdp-scores.csv\r\n",
      "board_data.csv\r\n",
      "\u001b[31mghgp_data_by_year_8_5_17.xlsx\u001b[m\u001b[m*\r\n",
      "tickers.csv\r\n",
      "\u001b[31mtickers.xlsx\u001b[m\u001b[m*\r\n"
     ]
    }
   ],
   "source": [
    "ls ../data"
   ]
  },
  {
   "cell_type": "code",
   "execution_count": 3,
   "metadata": {
    "collapsed": false
   },
   "outputs": [],
   "source": [
    "board_data = pd.read_csv('../data/board_data.csv')\n",
    "us_emissions = pd.read_csv('../data/2017-cdp-scores.csv')"
   ]
  },
  {
   "cell_type": "code",
   "execution_count": 4,
   "metadata": {
    "collapsed": false
   },
   "outputs": [
    {
     "data": {
      "text/html": [
       "<div>\n",
       "<table border=\"1\" class=\"dataframe\">\n",
       "  <thead>\n",
       "    <tr style=\"text-align: right;\">\n",
       "      <th></th>\n",
       "      <th>Unnamed: 0</th>\n",
       "      <th>Company</th>\n",
       "      <th>2020 Rating</th>\n",
       "      <th>Total Board</th>\n",
       "      <th># of women</th>\n",
       "      <th>% of Women</th>\n",
       "      <th>Sector</th>\n",
       "      <th>State</th>\n",
       "      <th>City</th>\n",
       "      <th>Company_clean</th>\n",
       "    </tr>\n",
       "  </thead>\n",
       "  <tbody>\n",
       "    <tr>\n",
       "      <th>0</th>\n",
       "      <td>0</td>\n",
       "      <td>3M CO</td>\n",
       "      <td>NaN</td>\n",
       "      <td>11</td>\n",
       "      <td>2</td>\n",
       "      <td>18%</td>\n",
       "      <td>Industrials</td>\n",
       "      <td>Minnesota</td>\n",
       "      <td>ST. PAUL</td>\n",
       "      <td>3m</td>\n",
       "    </tr>\n",
       "    <tr>\n",
       "      <th>1</th>\n",
       "      <td>1</td>\n",
       "      <td>ABBOTT LABORATORIES</td>\n",
       "      <td>NaN</td>\n",
       "      <td>12</td>\n",
       "      <td>4</td>\n",
       "      <td>33%</td>\n",
       "      <td>Healthcare</td>\n",
       "      <td>Illinois</td>\n",
       "      <td>ABBOTT PARK</td>\n",
       "      <td>abbott laboratories</td>\n",
       "    </tr>\n",
       "    <tr>\n",
       "      <th>2</th>\n",
       "      <td>2</td>\n",
       "      <td>ADOBE SYSTEMS INC</td>\n",
       "      <td>NaN</td>\n",
       "      <td>10</td>\n",
       "      <td>2</td>\n",
       "      <td>20%</td>\n",
       "      <td>Technology</td>\n",
       "      <td>California</td>\n",
       "      <td>SAN JOSE</td>\n",
       "      <td>adobe systems</td>\n",
       "    </tr>\n",
       "    <tr>\n",
       "      <th>3</th>\n",
       "      <td>3</td>\n",
       "      <td>AFLAC INC</td>\n",
       "      <td>NaN</td>\n",
       "      <td>14</td>\n",
       "      <td>3</td>\n",
       "      <td>21%</td>\n",
       "      <td>Financial Services</td>\n",
       "      <td>Georgia</td>\n",
       "      <td>COLUMBUS</td>\n",
       "      <td>aflac</td>\n",
       "    </tr>\n",
       "    <tr>\n",
       "      <th>4</th>\n",
       "      <td>4</td>\n",
       "      <td>AIR PRODUCTS &amp; CHEMICALS INC /DE/</td>\n",
       "      <td>NaN</td>\n",
       "      <td>8</td>\n",
       "      <td>2</td>\n",
       "      <td>25%</td>\n",
       "      <td>Basic Materials</td>\n",
       "      <td>Pennsylvania</td>\n",
       "      <td>ALLENTOWN</td>\n",
       "      <td>air products  chemicals</td>\n",
       "    </tr>\n",
       "  </tbody>\n",
       "</table>\n",
       "</div>"
      ],
      "text/plain": [
       "   Unnamed: 0                            Company  2020 Rating  Total Board  \\\n",
       "0           0                              3M CO          NaN           11   \n",
       "1           1                ABBOTT LABORATORIES          NaN           12   \n",
       "2           2                  ADOBE SYSTEMS INC          NaN           10   \n",
       "3           3                          AFLAC INC          NaN           14   \n",
       "4           4  AIR PRODUCTS & CHEMICALS INC /DE/          NaN            8   \n",
       "\n",
       "   # of women % of Women              Sector         State          City  \\\n",
       "0           2        18%         Industrials     Minnesota     ST. PAUL    \n",
       "1           4        33%          Healthcare      Illinois  ABBOTT PARK    \n",
       "2           2        20%          Technology    California     SAN JOSE    \n",
       "3           3        21%  Financial Services       Georgia     COLUMBUS    \n",
       "4           2        25%     Basic Materials  Pennsylvania    ALLENTOWN    \n",
       "\n",
       "             Company_clean  \n",
       "0                       3m  \n",
       "1      abbott laboratories  \n",
       "2            adobe systems  \n",
       "3                    aflac  \n",
       "4  air products  chemicals  "
      ]
     },
     "execution_count": 4,
     "metadata": {},
     "output_type": "execute_result"
    }
   ],
   "source": [
    "board_data.head()"
   ]
  },
  {
   "cell_type": "code",
   "execution_count": 5,
   "metadata": {
    "collapsed": false
   },
   "outputs": [
    {
     "data": {
      "text/html": [
       "<div>\n",
       "<table border=\"1\" class=\"dataframe\">\n",
       "  <thead>\n",
       "    <tr style=\"text-align: right;\">\n",
       "      <th></th>\n",
       "      <th>Company</th>\n",
       "      <th>Country</th>\n",
       "      <th>Sector</th>\n",
       "      <th>Climate score</th>\n",
       "      <th>Water Score</th>\n",
       "      <th>Timber score</th>\n",
       "      <th>Palm oil score</th>\n",
       "      <th>Cattle production score</th>\n",
       "      <th>Soy score</th>\n",
       "    </tr>\n",
       "  </thead>\n",
       "  <tbody>\n",
       "    <tr>\n",
       "      <th>0</th>\n",
       "      <td>Skechers U.S.A. Inc</td>\n",
       "      <td>USA</td>\n",
       "      <td>Consumer Discretionary</td>\n",
       "      <td>Not requested</td>\n",
       "      <td>Not requested</td>\n",
       "      <td>Not scored</td>\n",
       "      <td>Not scored</td>\n",
       "      <td>Not scored</td>\n",
       "      <td>Not scored</td>\n",
       "    </tr>\n",
       "    <tr>\n",
       "      <th>1</th>\n",
       "      <td>Skywest Inc</td>\n",
       "      <td>USA</td>\n",
       "      <td>Industrials</td>\n",
       "      <td>F</td>\n",
       "      <td>Not requested</td>\n",
       "      <td>Not requested</td>\n",
       "      <td>Not requested</td>\n",
       "      <td>Not requested</td>\n",
       "      <td>Not requested</td>\n",
       "    </tr>\n",
       "    <tr>\n",
       "      <th>2</th>\n",
       "      <td>Skyworks Solutions, Inc.</td>\n",
       "      <td>USA</td>\n",
       "      <td>Information Technology</td>\n",
       "      <td>F</td>\n",
       "      <td>F</td>\n",
       "      <td>Not requested</td>\n",
       "      <td>Not requested</td>\n",
       "      <td>Not requested</td>\n",
       "      <td>Not requested</td>\n",
       "    </tr>\n",
       "    <tr>\n",
       "      <th>3</th>\n",
       "      <td>SL Green Realty Corp.</td>\n",
       "      <td>USA</td>\n",
       "      <td>Financials</td>\n",
       "      <td>F</td>\n",
       "      <td>Not requested</td>\n",
       "      <td>Not requested</td>\n",
       "      <td>Not requested</td>\n",
       "      <td>Not requested</td>\n",
       "      <td>Not requested</td>\n",
       "    </tr>\n",
       "    <tr>\n",
       "      <th>4</th>\n",
       "      <td>SM Energy Co.</td>\n",
       "      <td>USA</td>\n",
       "      <td>Energy</td>\n",
       "      <td>F</td>\n",
       "      <td>Not requested</td>\n",
       "      <td>Not requested</td>\n",
       "      <td>Not requested</td>\n",
       "      <td>Not requested</td>\n",
       "      <td>Not requested</td>\n",
       "    </tr>\n",
       "  </tbody>\n",
       "</table>\n",
       "</div>"
      ],
      "text/plain": [
       "                    Company  Country                  Sector  Climate score  \\\n",
       "0       Skechers U.S.A. Inc      USA  Consumer Discretionary  Not requested   \n",
       "1               Skywest Inc      USA             Industrials              F   \n",
       "2  Skyworks Solutions, Inc.      USA  Information Technology              F   \n",
       "3     SL Green Realty Corp.      USA              Financials              F   \n",
       "4             SM Energy Co.      USA                  Energy              F   \n",
       "\n",
       "     Water Score   Timber score  Palm oil score  Cattle production score  \\\n",
       "0  Not requested     Not scored      Not scored               Not scored   \n",
       "1  Not requested  Not requested   Not requested            Not requested   \n",
       "2              F  Not requested   Not requested            Not requested   \n",
       "3  Not requested  Not requested   Not requested            Not requested   \n",
       "4  Not requested  Not requested   Not requested            Not requested   \n",
       "\n",
       "       Soy score  \n",
       "0     Not scored  \n",
       "1  Not requested  \n",
       "2  Not requested  \n",
       "3  Not requested  \n",
       "4  Not requested  "
      ]
     },
     "execution_count": 5,
     "metadata": {},
     "output_type": "execute_result"
    }
   ],
   "source": [
    "us_emissions.head()"
   ]
  },
  {
   "cell_type": "code",
   "execution_count": 6,
   "metadata": {
    "collapsed": true
   },
   "outputs": [],
   "source": [
    "us_emissions['Company_clean'] = us_emissions['Company'].str.lower()\n",
    "us_emissions['Company_clean'] = us_emissions['Company_clean'].str.replace(\" /de/\", \"\")\n",
    "us_emissions['Company_clean'] = us_emissions['Company_clean'].str.replace('[^\\w\\s]','')\n",
    "us_emissions['Company_clean'] = us_emissions['Company_clean'].str.replace(\" corporation\", \"\")\n",
    "us_emissions['Company_clean'] = us_emissions['Company_clean'].str.replace(\" inc\", \"\")\n",
    "us_emissions['Company_clean'] = us_emissions['Company_clean'].str.replace(\" inc.\", \"\")\n",
    "us_emissions['Company_clean'] = us_emissions['Company_clean'].str.replace(\" corp\", \"\")\n",
    "us_emissions['Company_clean'] = us_emissions['Company_clean'].str.replace(\" ltd\", \"\")\n",
    "us_emissions['Company_clean'] = us_emissions['Company_clean'].str.replace(\" co\", \"\")\n",
    "joined_df = pd.merge(us_emissions, board_data, on='Company_clean')"
   ]
  },
  {
   "cell_type": "code",
   "execution_count": 7,
   "metadata": {
    "collapsed": false
   },
   "outputs": [
    {
     "data": {
      "text/html": [
       "<div>\n",
       "<table border=\"1\" class=\"dataframe\">\n",
       "  <thead>\n",
       "    <tr style=\"text-align: right;\">\n",
       "      <th></th>\n",
       "      <th>Company_x</th>\n",
       "      <th>Country</th>\n",
       "      <th>Sector</th>\n",
       "      <th>Climate score</th>\n",
       "      <th>Water Score</th>\n",
       "      <th>Timber score</th>\n",
       "      <th>Palm oil score</th>\n",
       "      <th>Cattle production score</th>\n",
       "      <th>Soy score</th>\n",
       "      <th>Company_clean</th>\n",
       "      <th>Unnamed: 0</th>\n",
       "      <th>Company_y</th>\n",
       "      <th>2020 Rating</th>\n",
       "      <th>Total Board</th>\n",
       "      <th># of women</th>\n",
       "      <th>% of Women</th>\n",
       "      <th>Sector</th>\n",
       "      <th>State</th>\n",
       "      <th>City</th>\n",
       "    </tr>\n",
       "  </thead>\n",
       "  <tbody>\n",
       "    <tr>\n",
       "      <th>0</th>\n",
       "      <td>Skechers U.S.A. Inc</td>\n",
       "      <td>USA</td>\n",
       "      <td>Consumer Discretionary</td>\n",
       "      <td>Not requested</td>\n",
       "      <td>Not requested</td>\n",
       "      <td>Not scored</td>\n",
       "      <td>Not scored</td>\n",
       "      <td>Not scored</td>\n",
       "      <td>Not scored</td>\n",
       "      <td>skechers usa</td>\n",
       "      <td>618</td>\n",
       "      <td>SKECHERS USA INC</td>\n",
       "      <td>NaN</td>\n",
       "      <td>9</td>\n",
       "      <td>0</td>\n",
       "      <td>0%</td>\n",
       "      <td>Consumer Cyclical</td>\n",
       "      <td>California</td>\n",
       "      <td>MANHATTAN BEACH</td>\n",
       "    </tr>\n",
       "    <tr>\n",
       "      <th>1</th>\n",
       "      <td>Skywest Inc</td>\n",
       "      <td>USA</td>\n",
       "      <td>Industrials</td>\n",
       "      <td>F</td>\n",
       "      <td>Not requested</td>\n",
       "      <td>Not requested</td>\n",
       "      <td>Not requested</td>\n",
       "      <td>Not requested</td>\n",
       "      <td>Not requested</td>\n",
       "      <td>skywest</td>\n",
       "      <td>619</td>\n",
       "      <td>SKYWEST INC</td>\n",
       "      <td>NaN</td>\n",
       "      <td>10</td>\n",
       "      <td>1</td>\n",
       "      <td>10%</td>\n",
       "      <td>Industrials</td>\n",
       "      <td>Utah</td>\n",
       "      <td>ST. GEORGE</td>\n",
       "    </tr>\n",
       "    <tr>\n",
       "      <th>2</th>\n",
       "      <td>Skyworks Solutions, Inc.</td>\n",
       "      <td>USA</td>\n",
       "      <td>Information Technology</td>\n",
       "      <td>F</td>\n",
       "      <td>F</td>\n",
       "      <td>Not requested</td>\n",
       "      <td>Not requested</td>\n",
       "      <td>Not requested</td>\n",
       "      <td>Not requested</td>\n",
       "      <td>skyworks solutions</td>\n",
       "      <td>620</td>\n",
       "      <td>SKYWORKS SOLUTIONS INC.</td>\n",
       "      <td>NaN</td>\n",
       "      <td>9</td>\n",
       "      <td>1</td>\n",
       "      <td>11%</td>\n",
       "      <td>Technology</td>\n",
       "      <td>Massachusetts</td>\n",
       "      <td>WOBURN</td>\n",
       "    </tr>\n",
       "    <tr>\n",
       "      <th>3</th>\n",
       "      <td>SL Green Realty Corp.</td>\n",
       "      <td>USA</td>\n",
       "      <td>Financials</td>\n",
       "      <td>F</td>\n",
       "      <td>Not requested</td>\n",
       "      <td>Not requested</td>\n",
       "      <td>Not requested</td>\n",
       "      <td>Not requested</td>\n",
       "      <td>Not requested</td>\n",
       "      <td>sl green realty</td>\n",
       "      <td>621</td>\n",
       "      <td>SL GREEN REALTY CORP</td>\n",
       "      <td>NaN</td>\n",
       "      <td>9</td>\n",
       "      <td>2</td>\n",
       "      <td>22%</td>\n",
       "      <td>Real Estate</td>\n",
       "      <td>New York</td>\n",
       "      <td>NEW YORK</td>\n",
       "    </tr>\n",
       "    <tr>\n",
       "      <th>4</th>\n",
       "      <td>SM Energy Co.</td>\n",
       "      <td>USA</td>\n",
       "      <td>Energy</td>\n",
       "      <td>F</td>\n",
       "      <td>Not requested</td>\n",
       "      <td>Not requested</td>\n",
       "      <td>Not requested</td>\n",
       "      <td>Not requested</td>\n",
       "      <td>Not requested</td>\n",
       "      <td>sm energy</td>\n",
       "      <td>623</td>\n",
       "      <td>SM Energy Co</td>\n",
       "      <td>NaN</td>\n",
       "      <td>8</td>\n",
       "      <td>1</td>\n",
       "      <td>13%</td>\n",
       "      <td>Energy</td>\n",
       "      <td>Colorado</td>\n",
       "      <td>DENVER</td>\n",
       "    </tr>\n",
       "  </tbody>\n",
       "</table>\n",
       "</div>"
      ],
      "text/plain": [
       "                  Company_x  Country                  Sector  Climate score  \\\n",
       "0       Skechers U.S.A. Inc      USA  Consumer Discretionary  Not requested   \n",
       "1               Skywest Inc      USA             Industrials              F   \n",
       "2  Skyworks Solutions, Inc.      USA  Information Technology              F   \n",
       "3     SL Green Realty Corp.      USA              Financials              F   \n",
       "4             SM Energy Co.      USA                  Energy              F   \n",
       "\n",
       "     Water Score   Timber score  Palm oil score  Cattle production score  \\\n",
       "0  Not requested     Not scored      Not scored               Not scored   \n",
       "1  Not requested  Not requested   Not requested            Not requested   \n",
       "2              F  Not requested   Not requested            Not requested   \n",
       "3  Not requested  Not requested   Not requested            Not requested   \n",
       "4  Not requested  Not requested   Not requested            Not requested   \n",
       "\n",
       "       Soy score       Company_clean  Unnamed: 0                Company_y  \\\n",
       "0     Not scored        skechers usa         618         SKECHERS USA INC   \n",
       "1  Not requested             skywest         619              SKYWEST INC   \n",
       "2  Not requested  skyworks solutions         620  SKYWORKS SOLUTIONS INC.   \n",
       "3  Not requested     sl green realty         621     SL GREEN REALTY CORP   \n",
       "4  Not requested           sm energy         623             SM Energy Co   \n",
       "\n",
       "   2020 Rating  Total Board  # of women % of Women             Sector  \\\n",
       "0          NaN            9           0         0%  Consumer Cyclical   \n",
       "1          NaN           10           1        10%        Industrials   \n",
       "2          NaN            9           1        11%         Technology   \n",
       "3          NaN            9           2        22%        Real Estate   \n",
       "4          NaN            8           1        13%             Energy   \n",
       "\n",
       "           State             City  \n",
       "0     California  MANHATTAN BEACH  \n",
       "1           Utah       ST. GEORGE  \n",
       "2  Massachusetts           WOBURN  \n",
       "3       New York         NEW YORK  \n",
       "4       Colorado           DENVER  "
      ]
     },
     "execution_count": 7,
     "metadata": {},
     "output_type": "execute_result"
    }
   ],
   "source": [
    "joined_df.head()"
   ]
  },
  {
   "cell_type": "code",
   "execution_count": 8,
   "metadata": {
    "collapsed": true
   },
   "outputs": [],
   "source": [
    "joined_df = joined_df.sort_values(by='% of Women', ascending=True)"
   ]
  },
  {
   "cell_type": "code",
   "execution_count": 9,
   "metadata": {
    "collapsed": true
   },
   "outputs": [],
   "source": [
    "joined_df['% of Women'] = joined_df['% of Women'].apply(lambda x : int(re.sub('%', '', x)))"
   ]
  },
  {
   "cell_type": "code",
   "execution_count": 10,
   "metadata": {
    "collapsed": false
   },
   "outputs": [
    {
     "data": {
      "text/html": [
       "<div>\n",
       "<table border=\"1\" class=\"dataframe\">\n",
       "  <thead>\n",
       "    <tr style=\"text-align: right;\">\n",
       "      <th></th>\n",
       "      <th>Company_x</th>\n",
       "      <th>Country</th>\n",
       "      <th>Sector</th>\n",
       "      <th>Climate score</th>\n",
       "      <th>Water Score</th>\n",
       "      <th>Timber score</th>\n",
       "      <th>Palm oil score</th>\n",
       "      <th>Cattle production score</th>\n",
       "      <th>Soy score</th>\n",
       "      <th>Company_clean</th>\n",
       "      <th>Unnamed: 0</th>\n",
       "      <th>Company_y</th>\n",
       "      <th>2020 Rating</th>\n",
       "      <th>Total Board</th>\n",
       "      <th># of women</th>\n",
       "      <th>% of Women</th>\n",
       "      <th>Sector</th>\n",
       "      <th>State</th>\n",
       "      <th>City</th>\n",
       "    </tr>\n",
       "  </thead>\n",
       "  <tbody>\n",
       "    <tr>\n",
       "      <th>0</th>\n",
       "      <td>Skechers U.S.A. Inc</td>\n",
       "      <td>USA</td>\n",
       "      <td>Consumer Discretionary</td>\n",
       "      <td>Not requested</td>\n",
       "      <td>Not requested</td>\n",
       "      <td>Not scored</td>\n",
       "      <td>Not scored</td>\n",
       "      <td>Not scored</td>\n",
       "      <td>Not scored</td>\n",
       "      <td>skechers usa</td>\n",
       "      <td>618</td>\n",
       "      <td>SKECHERS USA INC</td>\n",
       "      <td>NaN</td>\n",
       "      <td>9</td>\n",
       "      <td>0</td>\n",
       "      <td>0</td>\n",
       "      <td>Consumer Cyclical</td>\n",
       "      <td>California</td>\n",
       "      <td>MANHATTAN BEACH</td>\n",
       "    </tr>\n",
       "    <tr>\n",
       "      <th>28</th>\n",
       "      <td>SunCoke Energy Inc</td>\n",
       "      <td>USA</td>\n",
       "      <td>Materials</td>\n",
       "      <td>F</td>\n",
       "      <td>Not requested</td>\n",
       "      <td>Not requested</td>\n",
       "      <td>Not requested</td>\n",
       "      <td>Not requested</td>\n",
       "      <td>Not requested</td>\n",
       "      <td>suncoke energy</td>\n",
       "      <td>725</td>\n",
       "      <td>SunCoke Energy Inc.</td>\n",
       "      <td>NaN</td>\n",
       "      <td>7</td>\n",
       "      <td>0</td>\n",
       "      <td>0</td>\n",
       "      <td>Basic Materials</td>\n",
       "      <td>Illinois</td>\n",
       "      <td>LISLE</td>\n",
       "    </tr>\n",
       "    <tr>\n",
       "      <th>446</th>\n",
       "      <td>Olympic Steel Inc</td>\n",
       "      <td>USA</td>\n",
       "      <td>Materials</td>\n",
       "      <td>F</td>\n",
       "      <td>Not requested</td>\n",
       "      <td>Not requested</td>\n",
       "      <td>Not requested</td>\n",
       "      <td>Not requested</td>\n",
       "      <td>Not requested</td>\n",
       "      <td>olympic steel</td>\n",
       "      <td>145</td>\n",
       "      <td>OLYMPIC STEEL INC</td>\n",
       "      <td>NaN</td>\n",
       "      <td>8</td>\n",
       "      <td>0</td>\n",
       "      <td>0</td>\n",
       "      <td>NaN</td>\n",
       "      <td>NaN</td>\n",
       "      <td>BEDFORD HEIGHTS</td>\n",
       "    </tr>\n",
       "    <tr>\n",
       "      <th>495</th>\n",
       "      <td>Puma Biotechnology Inc</td>\n",
       "      <td>USA</td>\n",
       "      <td>Health Care</td>\n",
       "      <td>F</td>\n",
       "      <td>Not requested</td>\n",
       "      <td>Not requested</td>\n",
       "      <td>Not requested</td>\n",
       "      <td>Not requested</td>\n",
       "      <td>Not requested</td>\n",
       "      <td>puma biotechnology</td>\n",
       "      <td>373</td>\n",
       "      <td>PUMA BIOTECHNOLOGY INC.</td>\n",
       "      <td>NaN</td>\n",
       "      <td>5</td>\n",
       "      <td>0</td>\n",
       "      <td>0</td>\n",
       "      <td>Healthcare</td>\n",
       "      <td>California</td>\n",
       "      <td>LOS ANGELES</td>\n",
       "    </tr>\n",
       "    <tr>\n",
       "      <th>450</th>\n",
       "      <td>Ormat Technologies Inc</td>\n",
       "      <td>USA</td>\n",
       "      <td>Utilities</td>\n",
       "      <td>D</td>\n",
       "      <td>Not requested</td>\n",
       "      <td>Not requested</td>\n",
       "      <td>Not requested</td>\n",
       "      <td>Not requested</td>\n",
       "      <td>Not requested</td>\n",
       "      <td>ormat technologies</td>\n",
       "      <td>178</td>\n",
       "      <td>ORMAT TECHNOLOGIES INC.</td>\n",
       "      <td>NaN</td>\n",
       "      <td>8</td>\n",
       "      <td>0</td>\n",
       "      <td>0</td>\n",
       "      <td>NaN</td>\n",
       "      <td>NaN</td>\n",
       "      <td>RENO</td>\n",
       "    </tr>\n",
       "  </tbody>\n",
       "</table>\n",
       "</div>"
      ],
      "text/plain": [
       "                  Company_x  Country                  Sector  Climate score  \\\n",
       "0       Skechers U.S.A. Inc      USA  Consumer Discretionary  Not requested   \n",
       "28       SunCoke Energy Inc      USA               Materials              F   \n",
       "446       Olympic Steel Inc      USA               Materials              F   \n",
       "495  Puma Biotechnology Inc      USA             Health Care              F   \n",
       "450  Ormat Technologies Inc      USA               Utilities              D   \n",
       "\n",
       "       Water Score   Timber score  Palm oil score  Cattle production score  \\\n",
       "0    Not requested     Not scored      Not scored               Not scored   \n",
       "28   Not requested  Not requested   Not requested            Not requested   \n",
       "446  Not requested  Not requested   Not requested            Not requested   \n",
       "495  Not requested  Not requested   Not requested            Not requested   \n",
       "450  Not requested  Not requested   Not requested            Not requested   \n",
       "\n",
       "         Soy score       Company_clean  Unnamed: 0                Company_y  \\\n",
       "0       Not scored        skechers usa         618         SKECHERS USA INC   \n",
       "28   Not requested      suncoke energy         725      SunCoke Energy Inc.   \n",
       "446  Not requested       olympic steel         145        OLYMPIC STEEL INC   \n",
       "495  Not requested  puma biotechnology         373  PUMA BIOTECHNOLOGY INC.   \n",
       "450  Not requested  ormat technologies         178  ORMAT TECHNOLOGIES INC.   \n",
       "\n",
       "     2020 Rating  Total Board  # of women  % of Women             Sector  \\\n",
       "0            NaN            9           0           0  Consumer Cyclical   \n",
       "28           NaN            7           0           0    Basic Materials   \n",
       "446          NaN            8           0           0                NaN   \n",
       "495          NaN            5           0           0         Healthcare   \n",
       "450          NaN            8           0           0                NaN   \n",
       "\n",
       "          State             City  \n",
       "0    California  MANHATTAN BEACH  \n",
       "28     Illinois            LISLE  \n",
       "446         NaN  BEDFORD HEIGHTS  \n",
       "495  California      LOS ANGELES  \n",
       "450         NaN             RENO  "
      ]
     },
     "execution_count": 10,
     "metadata": {},
     "output_type": "execute_result"
    }
   ],
   "source": [
    "joined_df.head()"
   ]
  },
  {
   "cell_type": "code",
   "execution_count": 11,
   "metadata": {
    "collapsed": false
   },
   "outputs": [
    {
     "data": {
      "text/plain": [
       "Index(['Company_x', ' Country', ' Sector', ' Climate score', ' Water Score',\n",
       "       ' Timber score', ' Palm oil score', ' Cattle production score',\n",
       "       ' Soy score', 'Company_clean', 'Unnamed: 0', 'Company_y', '2020 Rating',\n",
       "       'Total Board', '# of women', '% of Women', 'Sector', 'State', 'City'],\n",
       "      dtype='object')"
      ]
     },
     "execution_count": 11,
     "metadata": {},
     "output_type": "execute_result"
    }
   ],
   "source": [
    "joined_df.columns"
   ]
  },
  {
   "cell_type": "code",
   "execution_count": 12,
   "metadata": {
    "collapsed": false
   },
   "outputs": [
    {
     "data": {
      "image/png": "[encoded data removed]",
      "text/plain": [
       "<matplotlib.figure.Figure at 0x106e36d30>"
      ]
     },
     "metadata": {},
     "output_type": "display_data"
    }
   ],
   "source": [
    "f, ax = plt.subplots()\n",
    "joined_df.boxplot(column='% of Women', by=' Climate score', ax=ax);"
   ]
  },
  {
   "cell_type": "code",
   "execution_count": 14,
   "metadata": {
    "collapsed": false
   },
   "outputs": [
    {
     "data": {
      "image/png": "[encoded data removed]",
      "text/plain": [
       "<matplotlib.figure.Figure at 0x1044b4ba8>"
      ]
     },
     "metadata": {},
     "output_type": "display_data"
    }
   ],
   "source": [
    "tmp = pd.get_dummies(joined_df[' Climate score'])\n",
    "joined_df['Good Climate Score'] = tmp['A']+tmp['A-']+tmp['B']+tmp['B-']\n",
    "f, ax = plt.subplots()\n",
    "joined_df.boxplot(column='% of Women', by='Good Climate Score', ax=ax);"
   ]
  },
  {
   "cell_type": "code",
   "execution_count": 15,
   "metadata": {
    "collapsed": false
   },
   "outputs": [
    {
     "name": "stdout",
     "output_type": "stream",
     "text": [
      "Mean % of women, for companies with good climate scores: 23.14%\n",
      "Mean % of women, for companies with low climate scores: 18.6%\n"
     ]
    }
   ],
   "source": [
    "print(\"Mean % of women, for companies with good climate scores: \" + \n",
    "      str(round(np.mean(joined_df['% of Women'][joined_df['Good Climate Score']==1]), 2)) + \"%\")\n",
    "print(\"Mean % of women, for companies with low climate scores: \" + \n",
    "      str(round(np.mean(joined_df['% of Women'][joined_df['Good Climate Score']==0]), 2)) + \"%\")"
   ]
  },
  {
   "cell_type": "code",
   "execution_count": 27,
   "metadata": {
    "collapsed": false
   },
   "outputs": [
    {
     "data": {
      "text/plain": [
       "<matplotlib.axes._subplots.AxesSubplot at 0x1081a1ef0>"
      ]
     },
     "execution_count": 27,
     "metadata": {},
     "output_type": "execute_result"
    },
    {
     "data": {
      "image/png": "[encoded data removed]",
      "text/plain": [
       "<matplotlib.figure.Figure at 0x1072b6780>"
      ]
     },
     "metadata": {},
     "output_type": "display_data"
    }
   ],
   "source": [
    "f, ax = plt.subplots()\n",
    "tab = joined_df[' Climate score'].value_counts()\n",
    "tab = tab.sort_index()\n",
    "tab.plot(kind='bar')\n",
    "#tab['A', 'A-', 'B', 'B-', 'C', 'C-', 'D', 'F', 'Not requested', 'Not scored']"
   ]
  },
  {
   "cell_type": "code",
   "execution_count": 20,
   "metadata": {
    "collapsed": false,
    "scrolled": false
   },
   "outputs": [
    {
     "data": {
      "text/plain": [
       "<matplotlib.axes._subplots.AxesSubplot at 0x107e2fef0>"
      ]
     },
     "execution_count": 20,
     "metadata": {},
     "output_type": "execute_result"
    },
    {
     "data": {
      "image/png": "[encoded data removed]",
      "text/plain": [
       "<matplotlib.figure.Figure at 0x107fd2e80>"
      ]
     },
     "metadata": {},
     "output_type": "display_data"
    }
   ],
   "source": [
    "f, ax = plt.subplots()\n",
    "#joined_df.ix[].boxplot(column='% of Women', by=' Climate score', ax=ax);\n",
    "climatea = joined_df[' Climate score'] == 'A' \n",
    "climatef = joined_df[' Climate score'] == 'F'\n",
    "joined_df[climatea | climatef].boxplot(column='% of Women', by=' Climate score', ax=ax)"
   ]
  },
  {
   "cell_type": "code",
   "execution_count": 19,
   "metadata": {
    "collapsed": false
   },
   "outputs": [
    {
     "name": "stdout",
     "output_type": "stream",
     "text": [
      "Mean % of women, for companies with A climate scores: 24.75%\n",
      "Mean % of women, for companies with F climate scores: 16.12%\n"
     ]
    }
   ],
   "source": [
    "print(\"Mean % of women, for companies with A climate scores: \" + \n",
    "      str(round(np.mean(joined_df['% of Women'][joined_df[' Climate score']=='A']), 2)) + \"%\")\n",
    "print(\"Mean % of women, for companies with F climate scores: \" + \n",
    "      str(round(np.mean(joined_df['% of Women'][joined_df[' Climate score']=='F']), 2)) + \"%\")"
   ]
  }
 ],
 "metadata": {
  "kernelspec": {
   "display_name": "Python 3",
   "language": "python",
   "name": "python3"
  },
  "language_info": {
   "codemirror_mode": {
    "name": "ipython",
    "version": 3
   },
   "file_extension": ".py",
   "mimetype": "text/x-python",
   "name": "python",
   "nbconvert_exporter": "python",
   "pygments_lexer": "ipython3",
   "version": "3.4.3"
  }
 },
 "nbformat": 4,
 "nbformat_minor": 2
}
